{
 "cells": [
  {
   "cell_type": "markdown",
   "metadata": {},
   "source": [
    "https://www.kaggle.com/kemical/kickstarter-projects\n",
    "# Table of Content\n",
    "- Imports\n",
    "- Add Functions\n",
    "- Load Data\n",
    "- Dataset Overview\n",
    "- Summary of Dataset Overview Observations\n",
    "- Visualization \n",
    "- Summary of Visualization Observations\n",
    "- Cleaning\n",
    "- Load Cleaned Data\n",
    "- Feature Engineering/Extraction\n",
    "- Checking Multicollinearity\n",
    "- Checking Sampling\n",
    "- Checking Normality\n",
    "- Tools of the trade\n",
    "\n",
    "\n",
    "..No matter how much you study, no matter how many classes you, No matter how far you go...... you'll alays be stupid...."
   ]
  },
  {
   "cell_type": "markdown",
   "metadata": {},
   "source": [
    "# Imports"
   ]
  },
  {
   "cell_type": "code",
   "execution_count": 4,
   "metadata": {},
   "outputs": [],
   "source": [
    "import cufflinks as cl\n",
    "import datetime\n",
    "from itertools import combinations \n",
    "import numpy as np\n",
    "import matplotlib.pyplot as plt\n",
    "import os\n",
    "import pandas as pd\n",
    "\n",
    "from sklearn.linear_model import LinearRegression\n",
    "from sklearn.preprocessing import PolynomialFeatures\n",
    "from sklearn.model_selection import train_test_split\n",
    "from sklearn.utils import resample\n",
    "from sklearn import neighbors\n",
    "\n",
    "from scipy.stats import chi2_contingency\n",
    "from scipy.stats import chi2\n",
    "\n",
    "import scipy.stats as st\n",
    "\n",
    "import statsmodels.api as sm\n",
    "\n",
    "from statsmodels.stats.outliers_influence import variance_inflation_factor\n",
    "from statsmodels.tools.tools import add_constant\n",
    "from statsmodels.stats.stattools import durbin_watson\n",
    "from statsmodels.stats.api import het_breuschpagan\n",
    "\n",
    "import seaborn as sns\n",
    "\n",
    "from yellowbrick.regressor import CooksDistance\n",
    "import warnings\n",
    "warnings.filterwarnings('ignore')\n",
    "\n",
    "\n",
    "from laurentstar import Cleaner #My Modules\n",
    "from laurentstar import ColorFormatting\n",
    "%matplotlib inline"
   ]
  },
  {
   "cell_type": "markdown",
   "metadata": {},
   "source": [
    "# Add Functions"
   ]
  },
  {
   "cell_type": "code",
   "execution_count": 5,
   "metadata": {},
   "outputs": [],
   "source": [
    "%run -i \"scripts/functions.py\""
   ]
  },
  {
   "cell_type": "markdown",
   "metadata": {},
   "source": [
    "# Load Data"
   ]
  },
  {
   "cell_type": "code",
   "execution_count": null,
   "metadata": {},
   "outputs": [],
   "source": [
    "file_path = os.path.join('data', 'ks-projects-201612.csv')\n",
    "df = pd.read_csv(file_path, encoding=\"ISO-8859-1\")"
   ]
  },
  {
   "cell_type": "markdown",
   "metadata": {},
   "source": [
    "# Dataset Overview"
   ]
  },
  {
   "cell_type": "code",
   "execution_count": null,
   "metadata": {},
   "outputs": [],
   "source": [
    "display(df.head())\n",
    "display(df.info())\n",
    "display(df.describe())"
   ]
  },
  {
   "cell_type": "code",
   "execution_count": null,
   "metadata": {},
   "outputs": [],
   "source": [
    "print('Number of unique values for ID', df['ID '].nunique())\n",
    "df.columns"
   ]
  },
  {
   "cell_type": "markdown",
   "metadata": {},
   "source": [
    "### <span style=\"color:blue\">Observations</span>\n",
    "    \n",
    "    - Unnamed: 13, 14, 15, 16 are all blank when opened with Notepad++ and Microsoft Excel. The 2018 version of the dataset\n",
    "      has 3 additional columns representing a country and how much it pledged. These columns may have been \n",
    "      accidentally picked up using ISO-8859-1 encoding when loading the data\n",
    "    - Based on the values observation the goal should be a numeric column but the actual values are of different currency.\n",
    "    - The ID has a unique value for every row. Since it is identification this is expected and it is not useful for   \n",
    "      analysis. \n",
    "    - All column names have white space at the end."
   ]
  },
  {
   "cell_type": "code",
   "execution_count": null,
   "metadata": {},
   "outputs": [],
   "source": [
    "display(df[df['backers '].str.isnumeric() == False][['backers ', 'state ', 'pledged ', 'launched ']].head())\n",
    "\n",
    "print(\"Number of observation that aren't numeric:\", df[df['backers '].str.isnumeric() == False]['backers '].count())\n",
    "\n",
    "print(\"Number of unique observations that aren't numeric:\", \n",
    "      df[df['backers '].str.isnumeric() == False]['backers '].nunique(), '\\n')\n",
    "\n",
    "print(\"Unique Observations that aren't numeric:\\n\", \n",
    "      df[df['backers '].str.isnumeric() == False]['backers '].unique())"
   ]
  },
  {
   "cell_type": "markdown",
   "metadata": {},
   "source": [
    "### <span style=\"color:blue\">Observations</span>\n",
    "    - the majority of projects are funded by USA Dollars\n",
    "    - There seems to be a mistake in the dataset. Whenever a backers string observation is not potentially numeric it has a \n",
    "      the status of the kickstarter which are the values of the \"state \" feature. Certain observations seems to be shifted \n",
    "      to the next column"
   ]
  },
  {
   "cell_type": "code",
   "execution_count": null,
   "metadata": {},
   "outputs": [],
   "source": [
    "print('Total number of projects:', df.shape[0])\n",
    "print('Number of projects in 1970:', df[df['launched '].str.contains(pat = '1970-')]['launched '].count())\n",
    "print('Number of projects in 2007:', df[df['launched '].str.contains(pat = '2007-')]['launched '].count())\n",
    "print('Number of projects in 2008:', df[df['launched '].str.contains(pat = '2008-')]['launched '].count())\n",
    "print('Number of projects in 2009:', df[df['launched '].str.contains(pat = '2009-')]['launched '].count())\n",
    "print('Number of projects in 2010:', df[df['launched '].str.contains(pat = '2010-')]['launched '].count())\n",
    "print('Number of projects in 2011:', df[df['launched '].str.contains(pat = '2011-')]['launched '].count())\n",
    "print('Number of projects in 2012:', df[df['launched '].str.contains(pat = '2012-')]['launched '].count())\n",
    "print('Number of projects in 2013:', df[df['launched '].str.contains(pat = '2013-')]['launched '].count())\n",
    "print('Number of projects in 2014:', df[df['launched '].str.contains(pat = '2014-')]['launched '].count())\n",
    "print('Number of projects in 2015:', df[df['launched '].str.contains(pat = '2015-')]['launched '].count())\n",
    "print('Number of projects in 2016:', df[df['launched '].str.contains(pat = '2016-')]['launched '].count())\n"
   ]
  },
  {
   "cell_type": "code",
   "execution_count": null,
   "metadata": {},
   "outputs": [],
   "source": [
    "df[~df['Unnamed: 13'].isna()].head()"
   ]
  },
  {
   "cell_type": "markdown",
   "metadata": {},
   "source": [
    "### <span style=\"color:blue\">Observations</span>\n",
    "    - The number of kickerstarter projects increased yearly. Since kickstarter was founded in April 28, 2009 there \n",
    "      shouldn't be any recorded project below this year and thankfully there isn't. \n",
    "    - the \"Unnamed\" columns are finally starting to make sense. The data shifted over to other columns and because they \n",
    "      never had named they were given defualt names.\n",
    "    - It seems ID was the only column uneffected by the data shifting\n",
    "    - when ever the Unnamed: 13 is not null the data appears shifted. Could be an easy way to detect shifts\n",
    "    - Some of the data was recorded wrong. The lanuch data of the project was recorded as 1970. "
   ]
  },
  {
   "cell_type": "code",
   "execution_count": null,
   "metadata": {},
   "outputs": [],
   "source": [
    "display(df[df['state '].str.isnumeric() == True].head(5))\n",
    "display(df[df['state '].str.isnumeric() == False]['state '].unique())\n",
    "display(df['main_category '].unique())\n",
    "display(df[df['currency '].str.len() > 3]['currency '].unique())"
   ]
  },
  {
   "cell_type": "markdown",
   "metadata": {},
   "source": [
    "### <span style=\"color:blue\">Observations</span>\n",
    "https://www.kickstarter.com/projects/1871325530/french-cuisine-a-traditional-experience/comments   \n",
    "    \n",
    "    - Based on this url that leads to observation identified as number 1563, It seems the scraping process is incorrect. It \n",
    "      has \"French Cruisine\" as the name of the project but the full name is \"French Cuisine; A Traditional Experience\" \n",
    "      with the second half of the title put as the catagory. Its catagory should really be \"Cookbooks\" This shows why the \n",
    "      data has been shifted. \n",
    "https://www.kickstarter.com/projects/1871325530/french-cuisine-a-traditional-experience/description\n",
    "\n",
    "    - This page leads to a list of catagories. There are 15 catagories \n",
    "|Catagories on the KickerStarter site| Catagories detected in the dataset|\n",
    "|---|---|\n",
    "|art|art|, \n",
    "|comics|comics|, \n",
    "|crafts|crafts|, \n",
    "|dance|dance|, \n",
    "|design|design|, \n",
    "|fashion|fashion|, \n",
    "|film & video|film & video|, \n",
    "|food|food|, \n",
    "|games|games|, \n",
    "|journalism|journalism|. \n",
    "|music|music|, \n",
    "|photography|photography|, \n",
    "|technology|technology|, \n",
    "|theater|theater|\n",
    "|Publishing|Publishing|\n",
    "\n",
    "      Each of the catagories can be clicked to \n",
    "      expand a list that shown additional catagories under them. \n",
    "      "
   ]
  },
  {
   "cell_type": "code",
   "execution_count": null,
   "metadata": {},
   "outputs": [],
   "source": [
    "df[df['deadline '].str.len() <= 4]['deadline '].unique()"
   ]
  },
  {
   "cell_type": "code",
   "execution_count": null,
   "metadata": {},
   "outputs": [],
   "source": [
    "display(df[df['usd pledged '].str.isalpha() == True]['usd pledged '].unique())\n",
    "display(df[df['country '].str.isalpha() == True]['country '].unique())"
   ]
  },
  {
   "cell_type": "markdown",
   "metadata": {},
   "source": [
    "### <span style=\"color:blue\">Observations</span>\n",
    "\n",
    "https://www.kickstarter.com/discover/advanced?raised=1&ref=discovery_overlay&sort=end_date&staff_picks=1\n",
    "    \n",
    "    - This link goes to the staff pick of 75% nearly funded projects. At the bottom users can change what the currency they\n",
    "      see is. There are 14 currency with identification names of 3 uppercase letters. There is no currency that doesn't \n",
    "      follow this format \n",
    "\n",
    "https://www.kickstarter.com/discover/advanced?raised=1&ref=discovery_overlay&sort=end_date&staff_picks=1\n",
    "    \n",
    "    - Every currency in this dataset is an option on kaggle but kaggle has additional options\n",
    "\n",
    "==========================================================================================================================\n",
    "    \n",
    "    - Every country recorded only uses its abbrivated 2 letter name and there doesn't appear to be any exceptions.\n",
    " "
   ]
  },
  {
   "cell_type": "markdown",
   "metadata": {},
   "source": [
    "# Summary of Dataset Overview Observations"
   ]
  },
  {
   "cell_type": "markdown",
   "metadata": {},
   "source": [
    "   1. Unnamed: 13, 14, 15, 16 are all blank when opened with Notepad++ and Microsoft Excel. The 2018 version of the dataset\n",
    "      has 3 additional columns representing a country and how much it pledged. These columns may have been accidentally \n",
    "      picked up using ISO-8859-1 encoding when loading the data\n",
    "    \n",
    "   2. Based on the values observation the goal should be a numeric column but the actual values are of different currency.\n",
    "    \n",
    "   3. All column names have white space at the end.\n",
    "   \n",
    "   4. the majority of projects are funded by USA Dollars\n",
    "    \n",
    "   5. There seems to be a mistake in the dataset. Whenever a backers string observation is not potentially numeric it has a \n",
    "      the status of the kickstarter which are the values of the \"state \" feature. Certain observations seems to be shifted \n",
    "      to the next column\n",
    "    \n",
    "   6. The number of kickerstarter projects increased yearly. Since kickstarter was founded in April 28, 2009 there \n",
    "      shouldn't be any recorded project below this year and thankfully there isn't. \n",
    "    \n",
    "   7. the \"Unnamed\" columns are finally starting to make sense. The data shifted over to other columns and because they \n",
    "      never had named they were given defualt names.\n",
    "    \n",
    "   8. \n",
    "      https://www.kickstarter.com/projects/1871325530/french-cuisine-a-traditional-experience/comments        \n",
    "      Based on this url that leads to observation number 1563 it seems the scraping process is incorrect. It has \"French\n",
    "      Cruisine\" as the name of the project but the full name is \"French Cuisine; A Traditional Experience\" with the second\n",
    "      half of the title put as the catagory. Its catagory should really be \"Cookbooks\" This shows why the data has been   \n",
    "      shifted. \n",
    "      \n",
    "   9. \n",
    "      https://www.kickstarter.com/projects/1871325530/french-cuisine-a-traditional-experience/description                  \n",
    "      This page leads to a list of catagories. There are 15 catagories (art, comics, crafts, dance, design, fashion, film & \n",
    "      video, food, games, journalism. music, photography, technology, Theater). Each of the catagories can be clicked to \n",
    "      expand a list that shown additional catagories under them. \n",
    "   \n",
    "   \n",
    "   10. \n",
    "      https://www.kickstarter.com/discover/advanced?raised=1&ref=discovery_overlay&sort=end_date&staff_picks=1\n",
    "      This link goes to the staff pick of 75% nearly funded projects. At the bottom users can change what the currency they\n",
    "      see is. There are 14 currency with identification names of 3 uppercase letters. There is no currency that doesn't \n",
    "      follow this format.\n",
    "   \n",
    "   11.   \n",
    "      https://www.kickstarter.com/discover/advanced?raised=1&ref=discovery_overlay&sort=end_date&staff_picks=1\n",
    "      Every currency in this dataset is an option on kaggle but kaggle has additional options\n",
    "   \n",
    "   12. Every country recorded only uses it Abbrivated name and there doesn't appear to be any exceptions."
   ]
  },
  {
   "cell_type": "code",
   "execution_count": null,
   "metadata": {},
   "outputs": [],
   "source": [
    "prob = 0.95\n",
    "alpha = 1.0 - prob\n",
    "for col in list(combinations(['category', 'main_category', 'currency', 'goal', 'country'], 2)):\n",
    "    stat, p, dof, expected =  chi2_contingency(pd.crosstab(clean_df[col[0]],  clean_df[col[1]]))\n",
    "    critical = chi2.ppf(prob, dof)\n",
    "    \n",
    "    print(f'{ColorFormatting.BOLD}{col[0]} {col[1]}{ColorFormatting.END}')\n",
    "    print(f'Chi Statistic: {stat}, P-value: {p}, Degree of Freedom: {dof}')    \n",
    "    print('Dependent (reject H0)') if p <= alpha else print('Independent (fail to reject H0)')\n",
    "    print()"
   ]
  },
  {
   "cell_type": "markdown",
   "metadata": {},
   "source": [
    "### <span style=\"color:orange\">Observations & Assumptions </span>\n",
    "\n",
    "- None of the by 2 combinations passed the test for independenc.\n",
    "- This test checks if the variables are independent but not how indepenedent they are."
   ]
  },
  {
   "cell_type": "markdown",
   "metadata": {},
   "source": [
    "# Visualization"
   ]
  },
  {
   "cell_type": "code",
   "execution_count": null,
   "metadata": {},
   "outputs": [],
   "source": [
    "#Declaration\n",
    "fig, ax = plt.subplots(nrows=1, figsize=(15,7))\n",
    "length = df['category '].value_counts().size\n",
    "percent = 10/100\n",
    "\n",
    "\n",
    "print(\"Number of unique categories:\", df['category '].nunique())\n",
    "print(\"Number of categories in top 10 percent:\", int(length*percent))\n",
    "\n",
    "x = df['category '].value_counts().index[:int(length*percent)]\n",
    "y = df['category '].value_counts()[:int(length*percent)]\n",
    "ax.set_title(\"Top 10 percent of categories on Kick Starter.\", fontsize=14)\n",
    "ax.set_xlabel(\"Catagories\", fontsize=14)\n",
    "ax.set_ylabel(\"Frequency/Count\", fontsize=14)\n",
    "ax.bar(x=x, height=y, width=0.9)\n",
    "ax.yaxis.grid(linestyle='-', linewidth=0.7)\n",
    "ax.set_xticklabels(x, rotation=45, ha='right')\n",
    "\n",
    "plt.tight_layout();"
   ]
  },
  {
   "cell_type": "code",
   "execution_count": null,
   "metadata": {},
   "outputs": [],
   "source": [
    "#Declaration\n",
    "fig, ax = plt.subplots(nrows=1, figsize=(15,14))\n",
    "x = df['main_category '].value_counts().index\n",
    "\n",
    "\n",
    "print(\"Number of unique main categories:\", df['main_category '].nunique())\n",
    "\n",
    "y = df['main_category '].value_counts()\n",
    "ax.set_xlabel(\"Catagories\", fontsize=14)\n",
    "ax.set_ylabel(\"Frequency/Count\", fontsize=14)\n",
    "ax.bar(x=x, height=y, width=0.9)\n",
    "ax.yaxis.grid(linestyle='-', linewidth=0.7)\n",
    "ax.set_xticklabels(x, rotation=45, ha='right')\n",
    "\n",
    "plt.tight_layout();"
   ]
  },
  {
   "cell_type": "markdown",
   "metadata": {},
   "source": [
    "### <span style=\"color:blue\">Observations</span>\n",
    "    - the majority of catagories were not recorded to generalize. Instead they appear to represent very specific \n",
    "      products/ideas/events only appearing 1 time in the entire dataset.\n",
    "    - Main catagory has 120 unique values. This is ~ 1/7 of the \"catagory \" unique values. This may be a better \n",
    "      representation of what the kick starter project catagorizes as."
   ]
  },
  {
   "cell_type": "code",
   "execution_count": null,
   "metadata": {},
   "outputs": [],
   "source": [
    "df['currency '].value_counts().plot('bar');"
   ]
  },
  {
   "cell_type": "code",
   "execution_count": null,
   "metadata": {},
   "outputs": [],
   "source": [
    "fig, ax = plt.subplots(figsize=(15,4))\n",
    "x = df[df['state '].str.isnumeric() == False]['state '].value_counts().index\n",
    "y = df[df['state '].str.isnumeric() == False]['state '].value_counts()\n",
    "\n",
    "ax.bar(x=x, height=y, width=0.9)\n",
    "ax.set_xticklabels(x, rotation=45, ha='right')\n",
    "ax.set_title(\"Observation of the Status column that aren't numeric\", fontsize=14)\n",
    "ax.set_ylabel(\"Count\", fontsize=14)\n",
    "ax.set_xlabel(\"Labels\", fontsize=14)\n",
    "plt.tight_layout();"
   ]
  },
  {
   "cell_type": "markdown",
   "metadata": {},
   "source": [
    "### <span style=\"color:blue\">Observations</span>\n",
    "    - It seems the shifting of data is with multiple columns as there are few unique dates and currency are apart of the \n",
    "    \"state \" column.\n"
   ]
  },
  {
   "cell_type": "markdown",
   "metadata": {},
   "source": [
    "# Summary of Visualization Observations"
   ]
  },
  {
   "cell_type": "markdown",
   "metadata": {},
   "source": [
    "   1. It seems the shifting of data is within multiple columns as there are a few unique dates and currencies apart of the  \"state \" column.\n",
    "   2. the majority of catagories were not recorded to generalize. Instead they appear to represent very specific \n",
    "      products/ideas/events only appearing 1 time in the entire dataset.\n",
    "   3. \"main catagory \" column has 120 unique values. This is ~ 1/7 of the \"catagory \" unique values. This may be a better \n",
    "      representation of what the kick starter project catagorizes as."
   ]
  },
  {
   "cell_type": "markdown",
   "metadata": {},
   "source": [
    "# Cleaning"
   ]
  },
  {
   "cell_type": "code",
   "execution_count": null,
   "metadata": {},
   "outputs": [],
   "source": [
    "clean_df = df.copy()\n",
    "\n",
    "# 'ID ' was the only column uneffected by the data shifting but it not very useful for analysis\n",
    "clean_df.drop(columns=['ID '], axis=1, inplace=True)\n",
    "\n",
    "# The column names have a weird whitespace at the end. Removing this. Using usd_pledged for readability.\n",
    "clean_df.columns = [name.replace(' ', '') for name in clean_df.columns]\n",
    "clean_df.rename(columns={'usdpledged': 'usd_pledged'}, inplace=True)\n",
    "\n",
    "# Using my custom clean class methods built for cleaning this kickstarter dataset\n",
    "clean = Cleaner()\n",
    "\n",
    "# Apply the data shifting technique to all rows that are detected to have been shifted\n",
    "clean_df = clean_df.fillna('').apply(lambda x: clean.shift_data_left(x), axis=1)\n",
    "\n",
    "# Replace every row where the country was zero with a fixed version. Only fixes 7 rows\n",
    "# '_' and 'tmp' are temporary variables I just like to use '_' first\n",
    "\n",
    "_ = clean_df[clean_df['country'] == '0']['name'] + clean_df[clean_df['country'] == '0']['category']\n",
    "tmp = clean_df[clean_df['country'] == '0'].shift(-1, axis = 1)\n",
    "\n",
    "tmp['name'] = _\n",
    "tmp['country'] = 'N'\n",
    "tmp['usd_pledged'] = 0\n",
    "tmp['Unnamed:16'] = ''\n",
    "\n",
    "clean_df.loc[clean_df.index.isin(tmp.index)] = tmp\n",
    "\n",
    "# Replace every row where the country was N,\"0 with a fixed version. fixes 3790 rows\n",
    "_ = clean_df[clean_df['country'] == 'N,\"0']\n",
    "_['country'] = 'N'\n",
    "_['usd_pledged'] = 0\n",
    "clean_df.loc[clean_df.index.isin(_.index)] = _\n",
    "\n",
    "\n",
    "clean_df.replace('', np.nan, inplace=True)\n",
    "clean_df.drop(columns=['Unnamed:13', 'Unnamed:14', 'Unnamed:15', 'Unnamed:16'], inplace=True)\n",
    "clean_df.dropna(inplace=True)\n",
    "\n",
    "clean_df.to_csv('data/kickstarter_2016_clean.csv', encoding='utf-8', index=False)"
   ]
  },
  {
   "cell_type": "markdown",
   "metadata": {},
   "source": [
    "# Load Cleaned Data"
   ]
  },
  {
   "cell_type": "code",
   "execution_count": 6,
   "metadata": {},
   "outputs": [],
   "source": [
    "file_path = os.path.join('data', 'kickstarter_2016_clean.csv')\n",
    "clean_df = pd.read_csv(file_path)"
   ]
  },
  {
   "cell_type": "markdown",
   "metadata": {},
   "source": [
    "# Feature Engineering/Extraction"
   ]
  },
  {
   "cell_type": "code",
   "execution_count": 7,
   "metadata": {},
   "outputs": [],
   "source": [
    "clean_df['deadline'] = clean_df['deadline'].astype('datetime64[ns]') \n",
    "clean_df['launched'] = clean_df['launched'].astype('datetime64[ns]') \n",
    "\n",
    "#Makes it easier to analysis by year\n",
    "clean_df['launch_year'] =  clean_df['launched'].map(lambda x: x.year)\n",
    "\n",
    "#launch year 1970 observation. Salt of the Earth: A Dead Sea Movie (Canceled)\n",
    "clean_df.iloc[2443][\"launched\"] = clean_df.iloc[2443][\"launched\"].replace(year=2010, month=7, day=23) \n",
    "\n",
    "#Could not confirm the rest of the launch year 1970 observations. Need to drop them.\n",
    "clean_df.drop(clean_df[clean_df[\"launch_year\"] < 2009].index, inplace=True)"
   ]
  },
  {
   "cell_type": "markdown",
   "metadata": {},
   "source": [
    "# <span style=\"color:red\">Boot Strap Estimates: Sampling Assumption  </span>"
   ]
  },
  {
   "cell_type": "code",
   "execution_count": 8,
   "metadata": {},
   "outputs": [
    {
     "name": "stdout",
     "output_type": "stream",
     "text": [
      "2020-07-31 14:02:05.898991\n",
      "2020-07-31 14:03:57.349520\n",
      "2020-07-31 14:06:29.348773\n",
      "2020-07-31 14:09:13.418769\n",
      "2020-07-31 14:11:56.866768\n",
      "2020-07-31 14:14:43.603772\n",
      "2020-07-31 14:17:29.740772\n",
      "2020-07-31 14:20:10.025773\n",
      "2020-07-31 14:22:50.071769\n",
      "2020-07-31 14:25:29.914768\n"
     ]
    }
   ],
   "source": [
    "boot = None\n",
    "mean = {'goal' : [],\n",
    "         'pledged' : [],\n",
    "         'backers' : [],\n",
    "         'usd_pledged' : [],\n",
    "         'launch_year' : [],\n",
    "        }\n",
    "       \n",
    "\n",
    "var = {'goal' : [],\n",
    "         'pledged' : [],\n",
    "         'backers' : [],\n",
    "         'usd_pledged' : [],\n",
    "         'launch_year' : [],\n",
    "        }\n",
    "       \n",
    "\n",
    "std = {'goal' : [],\n",
    "         'pledged' : [],\n",
    "         'backers' : [],\n",
    "         'usd_pledged' : [],\n",
    "         'launch_year' : [],\n",
    "        }\n",
    "       \n",
    "\n",
    "median = {'goal' : [],\n",
    "         'pledged' : [],\n",
    "         'backers' : [],\n",
    "         'usd_pledged' : [],\n",
    "         'launch_year' : [],\n",
    "        }\n",
    "\n",
    "proportion =[]\n",
    "\n",
    "\n",
    "for i in range(1000):   \n",
    "    \n",
    "    if i % 100 == 0:\n",
    "        print(datetime.datetime.now())\n",
    "    \n",
    "    boot = resample(clean_df, replace=True, n_samples=clean_df.shape[0])\n",
    "\n",
    "    proportion.append([list(boot.main_category.value_counts(normalize=True).sort_index().index),\n",
    "                       list(boot.main_category.value_counts(normalize=True).sort_index().values),\n",
    "                       list(boot.main_category.value_counts().sort_index().values)\n",
    "                      ])\n",
    "    \n",
    "    std['goal'].append(boot.goal.std())\n",
    "    std['pledged'].append(boot.pledged.std())\n",
    "    std['backers'].append(boot.backers.std())\n",
    "    std['usd_pledged'].append(boot.usd_pledged.std())\n",
    "    std['launch_year'].append(boot.launch_year.std())\n",
    "              \n",
    "    var['goal'].append(boot.goal.var())\n",
    "    var['pledged'].append(boot.pledged.var())\n",
    "    var['backers'].append(boot.backers.var())\n",
    "    var['usd_pledged'].append(boot.usd_pledged.var())\n",
    "    var['launch_year'].append(boot.launch_year.var())\n",
    "    \n",
    "    mean['goal'].append(boot.goal.mean())\n",
    "    mean['pledged'].append(boot.pledged.mean())\n",
    "    mean['backers'].append(boot.backers.mean())\n",
    "    mean['usd_pledged'].append(boot.usd_pledged.mean())\n",
    "    mean['launch_year'].append(boot.launch_year.mean())\n",
    "    \n",
    "    median['goal'].append(boot.goal.median())\n",
    "    median['pledged'].append(boot.pledged.median())\n",
    "    median['backers'].append(boot.backers.median())\n",
    "    median['usd_pledged'].append(boot.usd_pledged.median())\n",
    "    median['launch_year'].append(boot.launch_year.median()) "
   ]
  },
  {
   "cell_type": "code",
   "execution_count": 9,
   "metadata": {},
   "outputs": [],
   "source": [
    "std['goal'] = np.array(std['goal'])\n",
    "std['pledged'] = np.array(std['pledged'])\n",
    "std['backers'] = np.array(std['backers'])\n",
    "std['usd_pledged'] = np.array(std['usd_pledged'])\n",
    "std['launch_year'] = np.array(std['launch_year'])\n",
    "\n",
    "var['goal'] = np.array(var['goal'])\n",
    "var['pledged'] = np.array(var['pledged'])\n",
    "var['backers'] = np.array(var['backers'])\n",
    "var['usd_pledged'] = np.array(var['usd_pledged'])\n",
    "var['launch_year'] = np.array(var['launch_year'])\n",
    "\n",
    "mean['goal'] = np.array(mean['goal'])\n",
    "mean['pledged'] = np.array(mean['pledged'])\n",
    "mean['backers'] = np.array(mean['backers'])\n",
    "mean['usd_pledged'] = np.array(mean['usd_pledged'])\n",
    "mean['launch_year'] = np.array(mean['launch_year'])\n",
    "\n",
    "median['goal'] = np.array(median['goal'])\n",
    "median['pledged'] = np.array(median['pledged'])\n",
    "median['backers'] = np.array(median['backers'])\n",
    "median['usd_pledged'] = np.array(median['usd_pledged'])\n",
    "median['launch_year'] = np.array(median['launch_year'])"
   ]
  },
  {
   "cell_type": "code",
   "execution_count": 10,
   "metadata": {},
   "outputs": [
    {
     "data": {
      "image/png": "[encoded data removed]",
      "text/plain": [
       "<Figure size 1008x576 with 20 Axes>"
      ]
     },
     "metadata": {
      "needs_background": "light"
     },
     "output_type": "display_data"
    }
   ],
   "source": [
    "fig, ax = plt.subplots(nrows=4, ncols=5, figsize=(14, 8))\n",
    "_ = ['goal', 'pledged', 'backers', 'usd_pledged', 'launch_year']\n",
    "ax[0][0].set_title(_[0],fontsize=20 )\n",
    "ax[0][1].set_title(_[1],fontsize=20 )\n",
    "ax[0][2].set_title(_[2],fontsize=20 )\n",
    "ax[0][3].set_title(_[3],fontsize=20 )\n",
    "ax[0][4].set_title(_[4],fontsize=20 )\n",
    "ax[0][0].set_ylabel(\"mean\", fontsize=20)\n",
    "ax[1][0].set_ylabel(\"median\", fontsize=20)\n",
    "ax[2][0].set_ylabel(\"variance\", fontsize=20)\n",
    "ax[3][0].set_ylabel(\"STD\", fontsize=20)\n",
    "for index, col in enumerate(_):\n",
    "    ax[0][index].hist(mean[col])\n",
    "    ax[1][index].hist(median[col])\n",
    "    ax[2][index].hist(var[col])\n",
    "    ax[3][index].hist(std[col])\n",
    "    plt.tight_layout();"
   ]
  },
  {
   "cell_type": "code",
   "execution_count": 11,
   "metadata": {},
   "outputs": [
    {
     "data": {
      "text/plain": [
       "{'statistic_name': 'mean',\n",
       " 'goal': [(47170.22412995048, 47177.88478581674),\n",
       "  47174.05445788361,\n",
       "  61.799913414707284],\n",
       " 'pledged': [(8690.328255035072, 8690.927337675164),\n",
       "  8690.627796355118,\n",
       "  4.832909339922837],\n",
       " 'backers': [(101.51561493573084, 101.52185309252647),\n",
       "  101.51873401412865,\n",
       "  0.05032435297547312],\n",
       " 'usd_pledged': [(7748.289425963477, 7748.847174663303),\n",
       "  7748.56830031339,\n",
       "  4.4994608762198],\n",
       " 'launch_year': [(2013.7897468440374, 2013.7897588627202),\n",
       "  2013.7897528533788,\n",
       "  9.695691373078306e-05]}"
      ]
     },
     "metadata": {},
     "output_type": "display_data"
    },
    {
     "data": {
      "text/plain": [
       "{'statistic_name': 'median',\n",
       " 'goal': [(5000.0, 5000.0), 5000.0, 0.0],\n",
       " 'pledged': [(608.9997712337755, 609.0171287662243),\n",
       "  609.0084499999999,\n",
       "  0.14002639214626647],\n",
       " 'backers': [(11.996892809499801, 11.997107190500198),\n",
       "  11.997,\n",
       "  0.0017294507798720383],\n",
       " 'usd_pledged': [(509.8375503206545, 509.8513471857383),\n",
       "  509.8444487531964,\n",
       "  0.11130183661316766],\n",
       " 'launch_year': [(2014.0, 2014.0), 2014.0, 0.0]}"
      ]
     },
     "metadata": {},
     "output_type": "display_data"
    },
    {
     "data": {
      "text/plain": [
       "{'statistic_name': 'variance',\n",
       " 'goal': [(1298167846650.7737, 1298841024871.1785),\n",
       "  1298504435760.976,\n",
       "  5430651952.000434],\n",
       " 'pledged': [(8033097879.28125, 8039308417.027262),\n",
       "  8036203148.154256,\n",
       "  50101545.045614235],\n",
       " 'backers': [(872576.7565166877, 873310.1891491878),\n",
       "  872943.4728329377,\n",
       "  5916.735325974409],\n",
       " 'usd_pledged': [(7098124220.489015, 7104233693.159047),\n",
       "  7101178956.824031,\n",
       "  49286234.57432629],\n",
       " 'launch_year': [(2.867970419818707, 2.86799415246413),\n",
       "  2.8679822861414186,\n",
       "  0.0001914555956893059]}"
      ]
     },
     "metadata": {},
     "output_type": "display_data"
    },
    {
     "data": {
      "text/plain": [
       "{'statistic_name': 'standard-deviation',\n",
       " 'goal': [(1136876.6467871373, 1137172.0761621464),\n",
       "  1137024.3614746418,\n",
       "  2383.282856515144],\n",
       " 'pledged': [(89207.13191188785, 89241.13758115724),\n",
       "  89224.13474652254,\n",
       "  274.3299598816058],\n",
       " 'backers': [(928.8905807528096, 929.2775682895928),\n",
       "  929.0840745212012,\n",
       "  3.121899310359135],\n",
       " 'usd_pledged': [(83762.0688758605, 83797.59109026894),\n",
       "  83779.82998306472,\n",
       "  286.5642071731949],\n",
       " 'launch_year': [(1.6935073733568666, 1.6935143806774233),\n",
       "  1.693510877017145,\n",
       "  5.652933785914868e-05]}"
      ]
     },
     "metadata": {},
     "output_type": "display_data"
    }
   ],
   "source": [
    "display(ci_and_point_estimate(mean, 'mean'))\n",
    "display(ci_and_point_estimate(median, 'median'))\n",
    "display(ci_and_point_estimate(var, 'variance'))\n",
    "display(ci_and_point_estimate(std, 'standard-deviation'))"
   ]
  },
  {
   "cell_type": "code",
   "execution_count": 12,
   "metadata": {},
   "outputs": [
    {
     "data": {
      "image/png": "[encoded data removed]",
      "text/plain": [
       "<Figure size 936x576 with 15 Axes>"
      ]
     },
     "metadata": {
      "needs_background": "light"
     },
     "output_type": "display_data"
    }
   ],
   "source": [
    "fig, ax = plt.subplots(nrows=3, ncols=5, figsize=(13, 8))\n",
    "\n",
    "_ = proportion_data_formatting(proportion)\n",
    "for index, key  in enumerate(list(_.keys())):\n",
    "    ax[int(index/5)][int(index%5)].set_title(key)\n",
    "    ax[int(index/5)][int(index%5)].hist(_[key])\n",
    "plt.tight_layout()"
   ]
  },
  {
   "cell_type": "code",
   "execution_count": 13,
   "metadata": {},
   "outputs": [
    {
     "name": "stdout",
     "output_type": "stream",
     "text": [
      "Art\n",
      "Confidence_interval: (0.07418930378206, 0.07419107670963239) \n",
      "Proportion_Estimate: 0.0741901902458462\n",
      "\n",
      "Comics\n",
      "Confidence_interval: (0.02706142926514397, 0.027062559503586398) \n",
      "Proportion_Estimate: 0.027061994384365184\n",
      "\n",
      "Crafts\n",
      "Confidence_interval: (0.022214037514907296, 0.022215030345313434) \n",
      "Proportion_Estimate: 0.022214533930110365\n",
      "\n",
      "Dance\n",
      "Confidence_interval: (0.010425773773706437, 0.010426493021458807) \n",
      "Proportion_Estimate: 0.010426133397582622\n",
      "\n",
      "Design\n",
      "Confidence_interval: (0.07385155696210177, 0.07385332876374531) \n",
      "Proportion_Estimate: 0.07385244286292354\n",
      "\n",
      "Fashion\n",
      "Confidence_interval: (0.05689027151452903, 0.05689186162358532) \n",
      "Proportion_Estimate: 0.05689106656905717\n",
      "\n",
      "Film & Video\n",
      "Confidence_interval: (0.17831714414536842, 0.17831986282629703) \n",
      "Proportion_Estimate: 0.17831850348583272\n",
      "\n",
      "Food\n",
      "Confidence_interval: (0.06562891083302635, 0.0656306346650446) \n",
      "Proportion_Estimate: 0.06562977274903548\n",
      "\n",
      "Games\n",
      "Confidence_interval: (0.08662203759106221, 0.08662395377852872) \n",
      "Proportion_Estimate: 0.08662299568479546\n",
      "\n",
      "Journalism\n",
      "Confidence_interval: (0.01261471443235739, 0.012615480261516378) \n",
      "Proportion_Estimate: 0.012615097346936884\n",
      "\n",
      "Music\n",
      "Confidence_interval: (0.14451974231392578, 0.14452215872363844) \n",
      "Proportion_Estimate: 0.1445209505187821\n",
      "\n",
      "Photography\n",
      "Confidence_interval: (0.029901380551951066, 0.029902529387846113) \n",
      "Proportion_Estimate: 0.02990195496989859\n",
      "\n",
      "Publishing\n",
      "Confidence_interval: (0.10608843192620065, 0.10609048998311515) \n",
      "Proportion_Estimate: 0.1060894609546579\n",
      "\n",
      "Technology\n",
      "Confidence_interval: (0.08083611857710833, 0.08083793366868226) \n",
      "Proportion_Estimate: 0.0808370261228953\n",
      "\n",
      "Theater\n",
      "Confidence_interval: (0.030827290743353594, 0.03082846281120733) \n",
      "Proportion_Estimate: 0.030827876777280463\n",
      "\n"
     ]
    },
    {
     "data": {
      "text/plain": [
       "1.0"
      ]
     },
     "execution_count": 13,
     "metadata": {},
     "output_type": "execute_result"
    }
   ],
   "source": [
    "_ = proportion_data_formatting(proportion)\n",
    "estimate = ci_and_point_estimate(_, 'class_proportions')\n",
    "\n",
    "for i in list(estimate.keys())[1:]:\n",
    "    print(f'{i}\\nConfidence_interval: {estimate[i][0]} \\nProportion_Estimate: {estimate[i][1]}\\n')\n",
    "sum([estimate[i][1] for i in estimate][1:])"
   ]
  },
  {
   "cell_type": "code",
   "execution_count": 14,
   "metadata": {},
   "outputs": [
    {
     "name": "stdout",
     "output_type": "stream",
     "text": [
      " Results are not statistically significant.\n",
      "    fail to reject Ho\n",
      "        Class: Film & Video\n",
      "        Sample Mean: 0.1527913369905764\n",
      "        Population Mean: 0.17831850348583272\n",
      "        Standard Error: 2.1932096797400163e-05\n",
      "        t-value: 0.0\n",
      "        p-value: 1.0\n",
      "        \n",
      " Results are not statistically significant.\n",
      "    fail to reject Ho\n",
      "        Class: Music\n",
      "        Sample Mean: 0.12784352010326333\n",
      "        Population Mean: 0.1445209505187821\n",
      "        Standard Error: 1.9493619557461088e-05\n",
      "        t-value: 0.0\n",
      "        p-value: 1.0\n",
      "        \n",
      " Results are not statistically significant.\n",
      "    fail to reject Ho\n",
      "        Class: Games\n",
      "        Sample Mean: 0.10861235810482373\n",
      "        Population Mean: 0.08662299568479546\n",
      "        Standard Error: 1.5458235115134928e-05\n",
      "        t-value: 0.0\n",
      "        p-value: 1.0\n",
      "        \n",
      " Results are not statistically significant.\n",
      "    fail to reject Ho\n",
      "        Class: Publishing\n",
      "        Sample Mean: 0.10274660860827332\n",
      "        Population Mean: 0.1060894609546579\n",
      "        Standard Error: 1.6602721926041162e-05\n",
      "        t-value: 0.0\n",
      "        p-value: 1.0\n",
      "        \n",
      " Results are not statistically significant.\n",
      "    fail to reject Ho\n",
      "        Class: Technology\n",
      "        Sample Mean: 0.08796377613751016\n",
      "        Population Mean: 0.0808370261228953\n",
      "        Standard Error: 1.4642676040594458e-05\n",
      "        t-value: 0.0\n",
      "        p-value: 1.0\n",
      "        \n",
      " Results are not statistically significant.\n",
      "    fail to reject Ho\n",
      "        Class: Design\n",
      "        Sample Mean: 0.08495941767322547\n",
      "        Population Mean: 0.07385244286292354\n",
      "        Standard Error: 1.4293448246480153e-05\n",
      "        t-value: 0.0\n",
      "        p-value: 1.0\n",
      "        \n",
      " Results are not statistically significant.\n",
      "    fail to reject Ho\n",
      "        Class: Art\n",
      "        Sample Mean: 0.08050291857800507\n",
      "        Population Mean: 0.0741901902458462\n",
      "        Standard Error: 1.4302531320618038e-05\n",
      "        t-value: 0.0\n",
      "        p-value: 1.0\n",
      "        \n",
      " Results are not statistically significant.\n",
      "    fail to reject Ho\n",
      "        Class: Fashion\n",
      "        Sample Mean: 0.06514617398727998\n",
      "        Population Mean: 0.05689106656905717\n",
      "        Standard Error: 1.2827700880252635e-05\n",
      "        t-value: 0.0\n",
      "        p-value: 1.0\n",
      "        \n",
      " Results are not statistically significant.\n",
      "    fail to reject Ho\n",
      "        Class: Food\n",
      "        Sample Mean: 0.0615617762273754\n",
      "        Population Mean: 0.06562977274903548\n",
      "        Standard Error: 1.3906468496672516e-05\n",
      "        t-value: 0.0\n",
      "        p-value: 1.0\n",
      "        \n",
      " Results are not statistically significant.\n",
      "    fail to reject Ho\n",
      "        Class: Comics\n",
      "        Sample Mean: 0.03332979318739762\n",
      "        Population Mean: 0.027061994384365184\n",
      "        Standard Error: 9.117840443360628e-06\n",
      "        t-value: 0.0\n",
      "        p-value: 1.0\n",
      "        \n",
      " Results are not statistically significant.\n",
      "    fail to reject Ho\n",
      "        Class: Photography\n",
      "        Sample Mean: 0.025450245291265508\n",
      "        Population Mean: 0.02990195496989859\n",
      "        Standard Error: 9.267869498528497e-06\n",
      "        t-value: 0.0\n",
      "        p-value: 1.0\n",
      "        \n",
      " Results are not statistically significant.\n",
      "    fail to reject Ho\n",
      "        Class: Theater\n",
      "        Sample Mean: 0.025094869103104028\n",
      "        Population Mean: 0.030827876777280463\n",
      "        Standard Error: 9.455285962700893e-06\n",
      "        t-value: 0.0\n",
      "        p-value: 1.0\n",
      "        \n",
      " Results are not statistically significant.\n",
      "    fail to reject Ho\n",
      "        Class: Crafts\n",
      "        Sample Mean: 0.023505888215807295\n",
      "        Population Mean: 0.022214533930110365\n",
      "        Standard Error: 8.009344657436943e-06\n",
      "        t-value: 0.0\n",
      "        p-value: 1.0\n",
      "        \n",
      " Results are not statistically significant.\n",
      "    fail to reject Ho\n",
      "        Class: Journalism\n",
      "        Sample Mean: 0.011780516398364452\n",
      "        Population Mean: 0.012615097346936884\n",
      "        Standard Error: 6.178084036426572e-06\n",
      "        t-value: 0.0\n",
      "        p-value: 1.0\n",
      "        \n",
      " Results are not statistically significant.\n",
      "    fail to reject Ho\n",
      "        Class: Dance\n",
      "        Sample Mean: 0.008710801393728223\n",
      "        Population Mean: 0.010426133397582622\n",
      "        Standard Error: 5.80230330093455e-06\n",
      "        t-value: 0.0\n",
      "        p-value: 1.0\n",
      "        \n"
     ]
    }
   ],
   "source": [
    "sample_estimate = {'Film & Video' : 74810, \n",
    "                   'Music' : 62595,\n",
    "                   'Games' : 53179, \n",
    "                   'Publishing' : 50307, \n",
    "                   'Technology' : 43069, \n",
    "                   'Design' : 41598, \n",
    "                   'Art' : 39416, \n",
    "                   'Fashion' : 31897, \n",
    "                   'Food' : 30142, \n",
    "                   'Comics' : 16319,\n",
    "                   'Photography' : 12461,\n",
    "                   'Theater' : 12287, \n",
    "                   'Crafts' : 11509, \n",
    "                   'Journalism' : 5768, \n",
    "                   'Dance' : 4265 \n",
    "                  }\n",
    "\n",
    "sample_estimate = {key: [value, value/sum(sample_estimate.values())] for key, value in sample_estimate.items()}\n",
    "\n",
    "sample = proportion_data_formatting(proportion)\n",
    "\n",
    "\"\"\"\n",
    "Ho: µ = x_bar  (\"the sample mean is equal to the [proposed] population mean\")\n",
    "Ha: µ ≠ x_bar  (\"the sample mean is not equal to the [proposed] population mean\")\n",
    "\"\"\"\n",
    "\n",
    "for i in sample_estimate:\n",
    "    mu = estimate[i][1]            # Estimated Population mean(MEW)\n",
    "    x_bar = sample_estimate[i][1]  # sample mean\n",
    "    std_error = estimate[i][2]     # Standard error (sigma/sqrt(n))\n",
    "    \n",
    "    n = len(sample[i])\n",
    "\n",
    "    # Degrees of Freedom\n",
    "    dof = n-1\n",
    "    \n",
    "    numerator = x_bar - mu\n",
    "    denominator = std_error\n",
    "    \n",
    "    t = numerator/denominator\n",
    "    t_crit = st.t.ppf(1 - 0.05, df=dof)\n",
    "    \n",
    "    results = st.ttest_1samp(a=sample[i], popmean=mu) \n",
    "    \n",
    "    if (results[0]>t_crit) and (results[1]<0.05):\n",
    "        print (\"Null hypothesis rejected. Results are statistically significant with t-value =\", \n",
    "           round(results[0], 2), \"and p-value =\", np.round((results[1]), 4))\n",
    "    else:\n",
    "        print(f\"\"\" Results are not statistically significant.\n",
    "    fail to reject Ho\n",
    "        Class: {i}\n",
    "        Sample Mean: {x_bar}\n",
    "        Population Mean: {mu}\n",
    "        Standard Error: {std_error}\n",
    "        t-value: {results[0]}\n",
    "        p-value: {results[1]}\n",
    "        \"\"\")"
   ]
  },
  {
   "cell_type": "code",
   "execution_count": 15,
   "metadata": {},
   "outputs": [
    {
     "name": "stdout",
     "output_type": "stream",
     "text": [
      "Film & Video\n",
      " Results are not statistically significant.\n",
      "    fail to reject Ho\n",
      "        Class: Film & Video\n",
      "        Sample Mean: 0.17836281696057626\n",
      "        Population Mean: 0.17831850348583272\n",
      "        Standard Error: 2.1932096797400163e-05\n",
      "        t-value: 0.0\n",
      "        p-value: 1.0\n",
      "        \n",
      "Music\n",
      " Results are not statistically significant.\n",
      "    fail to reject Ho\n",
      "        Class: Music\n",
      "        Sample Mean: 0.14453309610519585\n",
      "        Population Mean: 0.1445209505187821\n",
      "        Standard Error: 1.9493619557461088e-05\n",
      "        t-value: 0.0\n",
      "        p-value: 1.0\n",
      "        \n",
      "Publishing\n",
      " Results are not statistically significant.\n",
      "    fail to reject Ho\n",
      "        Class: Publishing\n",
      "        Sample Mean: 0.10608854663787805\n",
      "        Population Mean: 0.1060894609546579\n",
      "        Standard Error: 1.6602721926041162e-05\n",
      "        t-value: 0.0\n",
      "        p-value: 1.0\n",
      "        \n",
      "Games\n",
      " Results are not statistically significant.\n",
      "    fail to reject Ho\n",
      "        Class: Games\n",
      "        Sample Mean: 0.0866129814449294\n",
      "        Population Mean: 0.08662299568479546\n",
      "        Standard Error: 1.5458235115134928e-05\n",
      "        t-value: 0.0\n",
      "        p-value: 1.0\n",
      "        \n",
      "Technology\n",
      " Results are not statistically significant.\n",
      "    fail to reject Ho\n",
      "        Class: Technology\n",
      "        Sample Mean: 0.08080892323754629\n",
      "        Population Mean: 0.0808370261228953\n",
      "        Standard Error: 1.4642676040594458e-05\n",
      "        t-value: 0.0\n",
      "        p-value: 1.0\n",
      "        \n",
      "Art\n",
      " Results are not statistically significant.\n",
      "    fail to reject Ho\n",
      "        Class: Art\n",
      "        Sample Mean: 0.07420174893973232\n",
      "        Population Mean: 0.0741901902458462\n",
      "        Standard Error: 1.4302531320618038e-05\n",
      "        t-value: 0.0\n",
      "        p-value: 1.0\n",
      "        \n",
      "Design\n",
      " Results are not statistically significant.\n",
      "    fail to reject Ho\n",
      "        Class: Design\n",
      "        Sample Mean: 0.07384652451511867\n",
      "        Population Mean: 0.07385244286292354\n",
      "        Standard Error: 1.4293448246480153e-05\n",
      "        t-value: 0.0\n",
      "        p-value: 1.0\n",
      "        \n",
      "Food\n",
      " Results are not statistically significant.\n",
      "    fail to reject Ho\n",
      "        Class: Food\n",
      "        Sample Mean: 0.06561458458820223\n",
      "        Population Mean: 0.06562977274903548\n",
      "        Standard Error: 1.3906468496672516e-05\n",
      "        t-value: 0.0\n",
      "        p-value: 1.0\n",
      "        \n",
      "Fashion\n",
      " Results are not statistically significant.\n",
      "    fail to reject Ho\n",
      "        Class: Fashion\n",
      "        Sample Mean: 0.05688533046682667\n",
      "        Population Mean: 0.05689106656905717\n",
      "        Standard Error: 1.2827700880252635e-05\n",
      "        t-value: 0.0\n",
      "        p-value: 1.0\n",
      "        \n",
      "Theater\n",
      " Results are not statistically significant.\n",
      "    fail to reject Ho\n",
      "        Class: Theater\n",
      "        Sample Mean: 0.030808768792144288\n",
      "        Population Mean: 0.030827876777280463\n",
      "        Standard Error: 9.455285962700893e-06\n",
      "        t-value: 0.0\n",
      "        p-value: 1.0\n",
      "        \n",
      "Photography\n",
      " Results are not statistically significant.\n",
      "    fail to reject Ho\n",
      "        Class: Photography\n",
      "        Sample Mean: 0.029928430000710448\n",
      "        Population Mean: 0.02990195496989859\n",
      "        Standard Error: 9.267869498528497e-06\n",
      "        t-value: 0.0\n",
      "        p-value: 1.0\n",
      "        \n",
      "Comics\n",
      " Results are not statistically significant.\n",
      "    fail to reject Ho\n",
      "        Class: Comics\n",
      "        Sample Mean: 0.027049567707319786\n",
      "        Population Mean: 0.027061994384365184\n",
      "        Standard Error: 9.117840443360628e-06\n",
      "        t-value: 0.0\n",
      "        p-value: 1.0\n",
      "        \n",
      "Crafts\n",
      " Results are not statistically significant.\n",
      "    fail to reject Ho\n",
      "        Class: Crafts\n",
      "        Sample Mean: 0.022215426624533963\n",
      "        Population Mean: 0.022214533930110365\n",
      "        Standard Error: 8.009344657436943e-06\n",
      "        t-value: 0.0\n",
      "        p-value: 1.0\n",
      "        \n",
      "Journalism\n",
      " Results are not statistically significant.\n",
      "    fail to reject Ho\n",
      "        Class: Journalism\n",
      "        Sample Mean: 0.012612011527804806\n",
      "        Population Mean: 0.012615097346936884\n",
      "        Standard Error: 6.178084036426572e-06\n",
      "        t-value: 0.0\n",
      "        p-value: 1.0\n",
      "        \n",
      "Dance\n",
      " Results are not statistically significant.\n",
      "    fail to reject Ho\n",
      "        Class: Dance\n",
      "        Sample Mean: 0.010431242451480976\n",
      "        Population Mean: 0.010426133397582622\n",
      "        Standard Error: 5.80230330093455e-06\n",
      "        t-value: 0.0\n",
      "        p-value: 1.0\n",
      "        \n"
     ]
    }
   ],
   "source": [
    "sample_estimate = clean_df.main_category.value_counts(normalize=True)\n",
    "for i in sample_estimate.index:\n",
    "    print(i)\n",
    "    mu = estimate[i][1]         # Estimated Population mean(MEW)\n",
    "    x_bar = sample_estimate[i]  # sample mean\n",
    "    std_error = estimate[i][2]  # Standard error (sigma/sqrt(n))\n",
    "    \n",
    "    n = len(sample[i])\n",
    "\n",
    "    # Degrees of Freedom\n",
    "    dof = n-1\n",
    "    \n",
    "    numerator = x_bar - mu\n",
    "    denominator = std_error\n",
    "    \n",
    "    t = numerator/denominator\n",
    "    t_crit = st.t.ppf(1 - 0.05, df=dof)\n",
    "    \n",
    "    results = st.ttest_1samp(a=sample[i], popmean=mu) \n",
    "    \n",
    "    if (results[0]>t_crit) and (results[1]<0.05):\n",
    "        print (\"Null hypothesis rejected. Results are statistically significant with t-value =\", \n",
    "           round(results[0], 2), \"and p-value =\", np.round((results[1]), 4))\n",
    "    else:\n",
    "        print(f\"\"\" Results are not statistically significant.\n",
    "    fail to reject Ho\n",
    "        Class: {i}\n",
    "        Sample Mean: {x_bar}\n",
    "        Population Mean: {mu}\n",
    "        Standard Error: {std_error}\n",
    "        t-value: {results[0]}\n",
    "        p-value: {results[1]}\n",
    "        \"\"\")"
   ]
  },
  {
   "cell_type": "markdown",
   "metadata": {},
   "source": [
    "# <span style=\"color:red\"> Multicollinearity Assumption</span>"
   ]
  },
  {
   "cell_type": "code",
   "execution_count": 16,
   "metadata": {},
   "outputs": [
    {
     "data": {
      "image/png": "[encoded data removed]",
      "text/plain": [
       "<Figure size 900x900 with 30 Axes>"
      ]
     },
     "metadata": {},
     "output_type": "display_data"
    }
   ],
   "source": [
    "sns.set(style=\"ticks\")\n",
    "sns.pairplot(clean_df);"
   ]
  },
  {
   "cell_type": "markdown",
   "metadata": {},
   "source": [
    "### <span style=\"color:orange\">Observations & Assumptions </span>\n",
    "- Pledged and usd_pledged seems to be linearly corralated but that doesn't matter. It was confirmed earlier most of the project were funded with US dollars.\n",
    "- Wow this graph is implying lower goals get more pledged money.\n",
    "- \"Goal\" looks very strange. It takes an L shape when plotted with every other feature. It also only has 7578 unique values in the whole dataset. This may just be people rounding to a common number \n",
    "- The data doesn't appear to be normally distrubtued OR there are such extreme values that it is hard to see"
   ]
  },
  {
   "cell_type": "code",
   "execution_count": 17,
   "metadata": {},
   "outputs": [
    {
     "data": {
      "image/png": "[encoded data removed]",
      "text/plain": [
       "<Figure size 792x648 with 2 Axes>"
      ]
     },
     "metadata": {},
     "output_type": "display_data"
    }
   ],
   "source": [
    "# Set up the matplotlib figure\n",
    "fig, ax = plt.subplots(figsize=(11, 9))\n",
    "sns.heatmap(clean_df.corr());"
   ]
  },
  {
   "cell_type": "markdown",
   "metadata": {},
   "source": [
    "### <span style=\"color:orange\">Observations & Assumptions </span>\n",
    "- Good, goals is completely independent!\n",
    "- Backers and usd_pledge are highly corralated. Might need to get rid of one to avoid noise\n",
    "- pledge and usd_pledge appear highly correlated. Maybe this will be useful for time series anaylsis but one of them needs to be removed during regression modeling"
   ]
  },
  {
   "cell_type": "code",
   "execution_count": 18,
   "metadata": {},
   "outputs": [
    {
     "data": {
      "text/plain": [
       "category          2.291176\n",
       "main_category     2.320412\n",
       "currency         16.565408\n",
       "deadline          3.948977\n",
       "goal              1.118550\n",
       "launched         78.794548\n",
       "country          16.576452\n",
       "launch_year       1.031948\n",
       "state             1.053905\n",
       "backers          18.396894\n",
       "usd_pledged      64.884618\n",
       "const            22.409607\n",
       "dtype: float64"
      ]
     },
     "execution_count": 18,
     "metadata": {},
     "output_type": "execute_result"
    }
   ],
   "source": [
    "X = ['category', 'main_category', 'currency', 'deadline', 'goal', 'launched', 'country', 'launch_year', 'state', \n",
    "     'backers', 'usd_pledged']\n",
    "y = \"pledged\"\n",
    "_ = X\n",
    "_.append(y)\n",
    "encoded_df = mean_encoding(clean_df[_], X, y)\n",
    "X = encoded_df.drop(columns = \"pledged\").assign(const=1)\n",
    "\n",
    "pd.Series([variance_inflation_factor(X.values, i) for i in range(X.shape[1])], index=X.columns)"
   ]
  },
  {
   "cell_type": "markdown",
   "metadata": {},
   "source": [
    "# <span style=\"color:red\"> Homoscedasticity Assumption </span>"
   ]
  },
  {
   "cell_type": "code",
   "execution_count": null,
   "metadata": {},
   "outputs": [],
   "source": [
    "X = ['category', 'main_category', 'currency', 'deadline', 'goal', 'launched', 'country', 'launch_year', 'state', \n",
    "     'backers', 'usd_pledged']\n",
    "y = \"pledged\"\n",
    "_ = X\n",
    "_.append(y)\n",
    "encoded_df = mean_encoding(clean_df[_], X, y)\n",
    "\n",
    "X = encoded_df.drop(columns = \"pledged\").assign(const=1)\n",
    "y = encoded_df['pledged']\n",
    "\n",
    "poly = PolynomialFeatures(4)\n",
    "X = poly.fit_transform(X)\n",
    "\n",
    "\n",
    "X_train, X_test, y_train, y_test = train_test_split(X, y, random_state=42, test_size=0.25)\n",
    "\n",
    "lm_polyfeats = LinearRegression()\n",
    "y_bar = lm_polyfeats.fit(X_train, y_train).predict(X_test)\n",
    "\n",
    "test = het_breuschpagan(y_bar, X_test)\n",
    "print(f\"\"\"\n",
    "lagrange multiplier statistic: {test[0]} \n",
    "p-value of lagrange multiplier test: {test[1]}\n",
    "f-statistic of the hypothesis that the error variance does not depend on x: {test[2]}\n",
    "p-value for the f-statistic: {test[3]}\n",
    "\"\"\")"
   ]
  },
  {
   "cell_type": "code",
   "execution_count": null,
   "metadata": {},
   "outputs": [],
   "source": [
    "fig, ax = plt.subplots(nrows=3, ncols=4, figsize=(13, 8))\n",
    "\n",
    "\n",
    "for index, col  in enumerate(X.columns):\n",
    "    ax[int(index/4)][int(index%4)].set_title(col)\n",
    "    ax[int(index/4)][int(index%4)].scatter(X_test[col], resid)\n",
    "plt.tight_layout()"
   ]
  },
  {
   "cell_type": "code",
   "execution_count": null,
   "metadata": {},
   "outputs": [],
   "source": [
    "#KNN regression\n",
    "X = ['category', 'main_category', 'currency', 'deadline', 'goal', 'launched', 'country', 'launch_year', 'state', \n",
    "     'backers', 'usd_pledged']\n",
    "y = \"pledged\"\n",
    "_ = X\n",
    "_.append(y)\n",
    "encoded_df = mean_encoding(clean_df[_], X, y)\n",
    "\n",
    "X = encoded_df.drop(columns = \"pledged\").assign(const=1)\n",
    "y = encoded_df['pledged']\n",
    "\n",
    "X_train, X_test, y_train, y_test = train_test_split(X, y, random_state=42, test_size=0.25)\n",
    "\n",
    "knn = neighbors.KNeighborsRegressor(5)\n",
    "y_bar = knn.fit(X_train, y_train).predict(X_test)\n",
    "resid = np.abs(y_bar - y_test)\n",
    "\n",
    "test = het_breuschpagan(resid, X_test)\n",
    "print(f\"\"\"\n",
    "lagrange multiplier statistic: {test[0]} \n",
    "p-value of lagrange multiplier test: {test[1]}\n",
    "f-statistic of the hypothesis that the error variance does not depend on x: {test[2]}\n",
    "p-value for the f-statistic: {test[3]}\n",
    "\"\"\")"
   ]
  },
  {
   "cell_type": "code",
   "execution_count": null,
   "metadata": {},
   "outputs": [],
   "source": [
    "fig, ax = plt.subplots(nrows=3, ncols=4, figsize=(13, 8))\n",
    "\n",
    "\n",
    "for index, col  in enumerate(X.columns):\n",
    "    ax[int(index/4)][int(index%4)].set_title(col)\n",
    "    ax[int(index/4)][int(index%4)].scatter(X_test[col], resid)\n",
    "plt.tight_layout()"
   ]
  },
  {
   "cell_type": "markdown",
   "metadata": {},
   "source": [
    "### <span style=\"color:orange\">Observations & Assumptions </span>\n",
    "\n",
    "Breusch-Pagan-Godfrey Test Null/Alternate Hypothesis\n",
    "- Ho: error variances are all equal.\n",
    "- Ha: error variances are not equal. (Y increases, the variances increase (or decrease).)\n",
    "- \n",
    "- Due to the op-value being less the 5% (0.05) I'm rejecting the hull hypothesis. This data is not Homoscedasticity. It is not fit for regression analysis in it's current form"
   ]
  },
  {
   "cell_type": "code",
   "execution_count": null,
   "metadata": {},
   "outputs": [],
   "source": [
    "y_bar.shape[0], X['goal'].shape[0], clean_df.shape[0]"
   ]
  },
  {
   "cell_type": "code",
   "execution_count": null,
   "metadata": {},
   "outputs": [],
   "source": [
    "# visualizer = CooksDistance()\n",
    "\n",
    "# X = clean_df.drop(columns = ['pledged', 'state', 'backers', 'usd_pledged'])\n",
    "# for y in ['pledged', 'state', 'backers', 'usd_pledged']:\n",
    "#     visualizer.fit(X, y)"
   ]
  },
  {
   "cell_type": "markdown",
   "metadata": {},
   "source": [
    "### <span style=\"color:orange\">Observations & Assumptions </span>\n",
    "\n",
    "- The KickStart Statistics pages is automatically updated once a day. I recorded frequecy of project catagories and success rate to the  date 6/19/2020. \n",
    "- The first year of KickStarter 2009 didn't have obesevations for all main categories. It is missing one\n",
    "- Chi square test Goodness of Fit\n",
    "   \n",
    "  **The assumptions of the Chi-square Test of Independents:**\n",
    "    1. <span style=\"color:green\"> The data in the cells should be frequencies, or counts of cases rather than percentages or some other transformation of the data. </span>\n",
    "\n",
    "    2. <span style=\"color:green\"> Expected value should be greater than 3 </span>\n",
    "\n",
    "    3. <span style=\"color:green\"> Observation must be independent </span>\n",
    "    \n",
    "  H0 :  there is no relation between the variables\n",
    "  H1 :  there is a relation between the variables\n",
    "  "
   ]
  },
  {
   "cell_type": "code",
   "execution_count": null,
   "metadata": {},
   "outputs": [],
   "source": [
    "df_plot = (clean_df.groupby(['launch_year', 'main_category']).size()\n",
    "                                                            .reset_index()\n",
    "                                                            .pivot(columns='launch_year', index='main_category', values=0))\n",
    "df_plot['total'] = df_plot.sum(axis=1)\n",
    "df_plot.sort_values('total', ascending=False, inplace=True)\n",
    "df_plot[df_plot.columns[:-1]].plot(kind='bar', stacked=True, rot=45, figsize=(15,5))\n",
    "plt.grid(axis='x');"
   ]
  },
  {
   "cell_type": "markdown",
   "metadata": {},
   "source": [
    "### <span style=\"color:orange\">Observations & Assumptions </span>\n",
    "- Proportion of the categories seems to remain consistent dispite rising number of projects for all categories."
   ]
  },
  {
   "cell_type": "markdown",
   "metadata": {},
   "source": [
    "# <span style=\"color:red\"> Checking Normality </span>"
   ]
  },
  {
   "cell_type": "code",
   "execution_count": null,
   "metadata": {},
   "outputs": [],
   "source": [
    "fig, ax = plt.subplots(ncols=2, figsize=(14, 4))\n",
    "\n",
    "ax[0].hist(clean_df.goal)\n",
    "ax[1].hist(clean_df.goal, log=True, bins=50)\n",
    "\n",
    "sm.qqplot(clean_df.goal, line ='45');"
   ]
  },
  {
   "cell_type": "markdown",
   "metadata": {},
   "source": [
    "### <span style=\"color:orange\">Observations & Assumptions </span>\n",
    "- The only numeric predictor doesn't look like a normal distrubtion. It looks like a \"pareto-distributed- meaning that most goals are small, some are medium, and a few are REALLY big\". \n",
    "- I also plotted a qq plot since you really shouldn't be using histograms to check for normality. Unfortunately most of those points are not on the red line and this data is not normal"
   ]
  },
  {
   "cell_type": "code",
   "execution_count": null,
   "metadata": {},
   "outputs": [],
   "source": [
    "fig, ax = plt.subplots(nrows=2, ncols=3, figsize=(14, 8))\n",
    "\n",
    "for index, col in enumerate(['pledged','backers', 'usd_pledged']):\n",
    "    ax[0][index].hist(clean_df[col], label='original')\n",
    "    ax[0][index].hist(clean_df[col], log=True, bins=50, label='log transform')  \n",
    "    ax[0][index].set_title(col,fontsize=20 )\n",
    "    ax[0][index].legend(loc='upper right')\n",
    "    sm.qqplot(clean_df.goal, ax=ax[1][index], line ='45');"
   ]
  },
  {
   "cell_type": "markdown",
   "metadata": {},
   "source": [
    "### <span style=\"color:orange\">Observations & Assumptions </span>\n",
    "- The other numeric columns seems to follow the same pareto-distribution. \n",
    "- QQ-plots generated for all of them are similar. \n",
    "- This data is no good for a linear regression model. "
   ]
  },
  {
   "cell_type": "markdown",
   "metadata": {},
   "source": [
    "# The follwoing is to be remove and updated. Kept for future work"
   ]
  },
  {
   "cell_type": "markdown",
   "metadata": {},
   "source": [
    "# Experiments To be removed"
   ]
  },
  {
   "cell_type": "code",
   "execution_count": null,
   "metadata": {},
   "outputs": [],
   "source": [
    "# There is no way to do a chi square test goodness of fix. Each year increases in the number of projects and the \n",
    "# test claim the data has no relationship to kickStarter 2020. Even if I rounded percents to the nearest whole\n",
    "# number and used this in my test I would need to wait six months to calculate the percents of the values scraped for the year\n",
    "# 2020.\n",
    "\n",
    "\n",
    "#Data was collected 6/19/2020\n",
    "_ = {'Art' : (39310, 44.41), #(Number of projects, Success rate by percent)\n",
    "    'Design' : (41510, 38.37),\n",
    "    'Technology' : (42993, 20.65),\n",
    "    'Film & Video' : (74760, 37.59),\n",
    "    'Music' : (62545, 49.99),\n",
    "    'Fashion' : (31840, 28.16),\n",
    "    'Publishing' : (50215, 33.30),\n",
    "    'Food' : (30106, 25.15),\n",
    "    'Comics' : (16280, 59.24),\n",
    "    'Photography' : (12448, 32.39),\n",
    "    'Theater' : (12282, 60.01),\n",
    "    'Crafts' : (1149, 25.20),\n",
    "    'Journalism' : (5762, 22.81),\n",
    "    'Dance' : (4265, 61.71),\n",
    "    'Games' : (53029, 41.10)\n",
    "}\n",
    "\n",
    "tmp2 = [_[tmp][0] for tmp in sorted(_)]  # Frequency of main catagories for the year 2020. Six months jan - jun\n",
    "for year in range(2010, 2017):           # Get the first 6 months of every year\n",
    "    tmp1 = list(clean_df[(clean_df['launched'].dt.year == year) & (clean_df['launched'].dt.month <= 6)].main_category.value_counts().sort_index())\n",
    "    print(year, chisquare(f_obs= tmp1, f_exp= tmp2))"
   ]
  },
  {
   "cell_type": "code",
   "execution_count": null,
   "metadata": {},
   "outputs": [],
   "source": [
    "import re\n",
    "expression = {}\n",
    "expression['country'] = re.compile(r'([A-Z]){2}')\n",
    "expression['state'] = ['failed', 'canceled', 'successful', 'live', 'undefined', 'suspended']\n",
    "expression['deadline & launched'] = re.compile(r'[\\d]{4}-[\\d]{2}-[\\d]{2} [\\d]{2}:?[\\d]{2}:?[\\d]{2}:?') \n",
    "expression['currency'] = re.compile(r'([A-Z]){3}') \n",
    "expression['main_category'] = ['Art', 'Comics', 'Crafts', 'Dance', 'Design', 'Fashion', 'Film & Video', \n",
    "                                         'Food', 'Games', 'Journalism', 'Music', 'Photography', 'Technology', 'Theater', \n",
    "                                         'Publishing']\n",
    "\n",
    "\n",
    "def shift_data_left(row):\n",
    "        \"\"\"\n",
    "        This function checks if there are signs of right shifted data. If right shifted data is detected, \n",
    "        the data is shifted to the left to be corrected. If the data was not right shifted no action will be taken.\n",
    "\n",
    "        This method should be called on a matrix the is mostly sorted. \n",
    "\n",
    "        Parameters\n",
    "        ----------\n",
    "            row : an pandas series or row from a pandas dataframe\n",
    "\n",
    "        Big-O-Notation Estimate\n",
    "        -----------------------\n",
    "            Best:         O(nlog(n))    //Fair-er-ish....\n",
    "            Average:      O(nlog(n))    //Fair...\n",
    "            Worst:        O(n^2)        //OUCH!!!\n",
    "\n",
    "        Returns\n",
    "        -------\n",
    "            pandas-series, 1D-array, dataframe-row : The dataframe row with swapped around data.\n",
    "\n",
    "\n",
    "        INPUT <<<<      df = pd.DataFrame({'numbers' : [1, 2, 3, 4, 'i'], 'letters' : ['a', 'b', 'c', 'd', 5]}) \n",
    "                        data_swap(df.iloc[0])\n",
    "\n",
    "        OUTPUT >>>>     {'numbers' : [1, 2, 3, 4, 5], 'letters' : ['a', 'b', 'c', 'd', 'i']}\n",
    "        \"\"\"\n",
    "        \n",
    "        \n",
    "        shift = 0 # The number of times the data was potentially shifted to the right. This is potentially not accually detected.\n",
    "        cutoff = 0 # How many columns to ignore when checking data shift\n",
    "        \n",
    "        if str(row['Unnamed:16']).replace('.', '').isnumeric():\n",
    "            shift = 4\n",
    "            cutoff = 0\n",
    "        elif str(row['Unnamed:15']).replace('.', '').isnumeric():\n",
    "            shift = 3\n",
    "            cutoff = 1\n",
    "        elif str(row['Unnamed:14']).replace('.', '').isnumeric():\n",
    "            shift = 2\n",
    "            cutoff = 2\n",
    "        elif str(row['Unnamed:13']).replace('.', '').isnumeric():\n",
    "            shift = 1\n",
    "            cutoff = 3\n",
    "        \n",
    "        # This create a list of column names in the correct order to check if data was shifted. The order is important for this check.\n",
    "        cols = row.index[::-1][cutoff:] \n",
    "        \n",
    "        # These if statement check if the data was shifted at any point it messes up the data wasn't shifted.\n",
    "        if shift > 0:   \n",
    "            \n",
    "            # should contain a datatype that usd_pledged would have\n",
    "            if str(row[cols[0]]).replace('.', '').isnumeric():\n",
    "                \n",
    "                if expression['country'].match(row[cols[1]]) != None:\n",
    "\n",
    "                    #Should contain a datatype expected in the backers columns\n",
    "                    if str(row[cols[2]]).replace('.', '').isnumeric():                    \n",
    "                        \n",
    "                        if row[cols[3]] in expression['state']:\n",
    "                            \n",
    "                            # Should contain a dataetype expected in pledged\n",
    "                            if row[cols[4]].replace('.', '').isnumeric():\n",
    "                                \n",
    "                                if expression['deadline & launched'].match(row[cols[5]]) != None:\n",
    "                                    \n",
    "                                    # Check for datatype expected in goal\n",
    "                                    if row[cols[6]].replace('.', '').isnumeric():\n",
    "                                        \n",
    "                                        if expression['deadline & launched'].match(row[cols[7]]) != None:\n",
    "                                \n",
    "                                            if expression['currency'].match(row[cols[8]]) != None:                         \n",
    "                                                                                     \n",
    "                                                if row[cols[9]] in expression['main_category']:                                                                                  \n",
    "                                                    for i in range(shift):\n",
    "                                                        row['name'] += ' ' + row[i+1]\n",
    "\n",
    "                                                    for i in range(1, len(row)):\n",
    "                                                        try:\n",
    "                                                            row[i] = row[i+shift]\n",
    "                                                            \n",
    "                                                        except:\n",
    "                                                            pass\n",
    "                                        \n",
    "                                                    for i in list(row[::-1][:4].index):                                                       \n",
    "                                                        row[i] = ''\n",
    "                                                    \n",
    "        return row"
   ]
  },
  {
   "cell_type": "code",
   "execution_count": null,
   "metadata": {},
   "outputs": [],
   "source": [
    "#shift_data_left(clean_df.iloc[1454]) \n",
    "#shift_data_left(clean_df.iloc[264243])\n",
    "#shift_data_left(clean_df.iloc[7639])\n",
    "#shift_data_left(clean_df.iloc[0])"
   ]
  },
  {
   "cell_type": "code",
   "execution_count": null,
   "metadata": {},
   "outputs": [],
   "source": [
    "# _ = pd.DataFrame({'_': [1,2,3,4,np.NaN]})\n",
    "# tmp = pd.Series({'tmp' : [3,3]},  index=[1,4])\n",
    "# display(_)\n",
    "# _.loc[_.index.isin(tmp.index)] = tmp\n",
    "# display(_)\n",
    "# display(tmp)"
   ]
  },
  {
   "cell_type": "code",
   "execution_count": null,
   "metadata": {},
   "outputs": [],
   "source": [
    "#plt.gca().yaxis.grid(True)\n",
    "#plt.xticks(rotation=45, ha='right');"
   ]
  },
  {
   "cell_type": "markdown",
   "metadata": {},
   "source": [
    "# Tools of the trade & Resources"
   ]
  },
  {
   "cell_type": "markdown",
   "metadata": {},
   "source": [
    "- [Regular Expression tester - Regexr](https://regexr.com/)\n",
    "- [Got tired of trying to show OOP skills](https://stackoverflow.com/questions/39267372/replace-rows-in-a-pandas-df-with-rows-from-another-df)\n",
    "- [Multicolinearity](https://www.theanalysisfactor.com/eight-ways-to-detect-multicollinearity/)\n",
    "- [Scietific Notation: Decided against suppression but here it is.](https://re-thought.com/how-to-suppress-scientific-notation-in-pandas/)\n",
    "- [KickStarter Public released Stats](https://www.kickstarter.com/help/stats)\n",
    "- [Assumption visit in incognito because the medium is being a annoying](https://towardsdatascience.com/all-the-annoying-assumptions-31b55df246c3)\n",
    "- [Checking distrubtion with histogram](https://datascience.stackexchange.com/questions/76118/what-is-the-distribution-of-the-goal-feature-in-this-dataset)\n",
    "- [Hypothesis Test List](https://stats.idre.ucla.edu/other/mult-pkg/whatstat/)\n",
    "- [Variance Influence Factor](https://www.displayr.com/variance-inflation-factors-vifs/#:~:text=The%20variance%20inflation%20factor%20(VIF,of%20predictors%20to%20a%20model))\n",
    "- [Confident Intervals & bootstrapping](https://www.dummies.com/education/science/biology/10-names-every-biostatistician-should-know/)\n",
    "- [Breusch-Pagan-Godfrey Test: Definition](https://www.statisticshowto.com/breusch-pagan-godfrey-test/)\n",
    "- [Making data more homoscedastic](https://statisticsbyjim.com/regression/heteroscedasticity-regression/#:~:text=Heteroscedasticity%20means%20unequal%20scatter.&text=Heteroscedasticity%20is%20a%20problem%20because,a%20constant%20variance%20(homoscedasticity).)\n",
    "- [Another name for data](https://www.statsmodels.org/stable/endog_exog.html)"
   ]
  },
  {
   "cell_type": "markdown",
   "metadata": {},
   "source": [
    "# Research"
   ]
  },
  {
   "cell_type": "markdown",
   "metadata": {},
   "source": [
    "- [Rate per capital](https://www.robertniles.com/stats/percap.shtml)"
   ]
  },
  {
   "cell_type": "code",
   "execution_count": null,
   "metadata": {},
   "outputs": [],
   "source": []
  }
 ],
 "metadata": {
  "kernelspec": {
   "display_name": "Python 3",
   "language": "python",
   "name": "python3"
  },
  "language_info": {
   "codemirror_mode": {
    "name": "ipython",
    "version": 3
   },
   "file_extension": ".py",
   "mimetype": "text/x-python",
   "name": "python",
   "nbconvert_exporter": "python",
   "pygments_lexer": "ipython3",
   "version": "3.7.3"
  }
 },
 "nbformat": 4,
 "nbformat_minor": 2
}
